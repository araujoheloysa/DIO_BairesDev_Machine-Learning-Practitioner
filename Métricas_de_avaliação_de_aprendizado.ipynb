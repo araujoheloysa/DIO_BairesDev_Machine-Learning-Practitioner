{
  "cells": [
    {
      "cell_type": "markdown",
      "metadata": {
        "id": "view-in-github",
        "colab_type": "text"
      },
      "source": [
        "<a href=\"https://colab.research.google.com/github/araujoheloysa/DIO_BairesDev_Machine-Learning-Practitioner/blob/main/M%C3%A9tricas_de_avalia%C3%A7%C3%A3o_de_aprendizado.ipynb\" target=\"_parent\"><img src=\"https://colab.research.google.com/assets/colab-badge.svg\" alt=\"Open In Colab\"/></a>"
      ]
    },
    {
      "cell_type": "markdown",
      "metadata": {
        "id": "Cbsx9PHqEaHc"
      },
      "source": [
        "# **1. Importing libraries**"
      ]
    },
    {
      "cell_type": "code",
      "execution_count": 1,
      "metadata": {
        "id": "6c-RkUrd1Zso"
      },
      "outputs": [],
      "source": [
        "import tensorflow as tf\n",
        "import keras\n",
        "from tensorflow.keras import layers, models, optimizers\n",
        "from tensorflow.keras.applications import MobileNet\n",
        "from tensorflow.keras.preprocessing.image import ImageDataGenerator\n",
        "from tensorflow.keras.models import Model\n",
        "from tensorflow.keras.layers import GlobalAveragePooling2D, Dense, Dropout, BatchNormalization\n",
        "from tensorflow.keras.regularizers import l2\n",
        "from tensorflow.keras.callbacks import EarlyStopping, ReduceLROnPlateau\n",
        "\n",
        "import matplotlib.pyplot as plt\n",
        "import os\n",
        "import zipfile\n",
        "import matplotlib.image as mpimg\n",
        "import random"
      ]
    },
    {
      "cell_type": "markdown",
      "metadata": {
        "id": "mTScmT0CErrn"
      },
      "source": [
        "# **2. Dataset cats and dogs**"
      ]
    },
    {
      "cell_type": "code",
      "execution_count": 2,
      "metadata": {
        "id": "KnPwr5x0Ycfl",
        "colab": {
          "base_uri": "https://localhost:8080/"
        },
        "outputId": "2bd74005-0b6f-415d-b1a4-84fdd92e2bd9"
      },
      "outputs": [
        {
          "output_type": "stream",
          "name": "stdout",
          "text": [
            "Downloading data from https://storage.googleapis.com/mledu-datasets/cats_and_dogs_filtered.zip\n",
            "\u001b[1m68606236/68606236\u001b[0m \u001b[32m━━━━━━━━━━━━━━━━━━━━\u001b[0m\u001b[37m\u001b[0m \u001b[1m1s\u001b[0m 0us/step\n"
          ]
        }
      ],
      "source": [
        "# Dataset URL\n",
        "dataset_url = \"https://storage.googleapis.com/mledu-datasets/cats_and_dogs_filtered.zip\"\n",
        "\n",
        "# Download the dataset\n",
        "data_cats_dogs_zip = tf.keras.utils.get_file('cats_and_dogs_filtered.zip', origin=dataset_url, extract=False)\n",
        "\n",
        "# Extract the zip file manually\n",
        "with zipfile.ZipFile(data_cats_dogs_zip, 'r') as zip_ref:\n",
        "    zip_ref.extractall(os.path.dirname(data_cats_dogs_zip)) # Extract to the same directory as the zip file\n",
        "\n",
        "# Define the path to the extracted dataset\n",
        "data_cats_dogs = os.path.join(os.path.dirname(data_cats_dogs_zip), 'cats_and_dogs_filtered') # Path to the extracted 'PetImages' folder"
      ]
    },
    {
      "cell_type": "markdown",
      "metadata": {
        "id": "SsraijuxGRh_"
      },
      "source": [
        "# **3. Separate the dataset into train and validation**"
      ]
    },
    {
      "cell_type": "code",
      "execution_count": 3,
      "metadata": {
        "colab": {
          "base_uri": "https://localhost:8080/"
        },
        "collapsed": true,
        "id": "yZ3jVvPk1tgX",
        "outputId": "e481ce71-1e47-4696-b790-2418bc5c7167"
      },
      "outputs": [
        {
          "output_type": "stream",
          "name": "stdout",
          "text": [
            "Found 3000 files belonging to 2 classes.\n",
            "Using 2100 files for training.\n",
            "Found 3000 files belonging to 2 classes.\n",
            "Using 900 files for validation.\n"
          ]
        }
      ],
      "source": [
        "# 70% dataset for training\n",
        "train_dataset = tf.keras.preprocessing.image_dataset_from_directory(\n",
        "  data_cats_dogs,\n",
        "  validation_split=0.3,\n",
        "  subset=\"training\",\n",
        "  seed=123,\n",
        "  image_size=(160, 160),\n",
        "  batch_size=32)\n",
        "\n",
        "# 30% dataset for validation\n",
        "validation_dataset = tf.keras.preprocessing.image_dataset_from_directory(\n",
        "  data_cats_dogs,\n",
        "  validation_split=0.30,\n",
        "  subset=\"validation\",\n",
        "  seed=123,\n",
        "  image_size=(160,160),\n",
        "  batch_size=32)\n"
      ]
    },
    {
      "cell_type": "markdown",
      "metadata": {
        "id": "wIF65Gace0d_"
      },
      "source": [
        "# **4. Loading the Pre-trained Model**"
      ]
    },
    {
      "cell_type": "code",
      "execution_count": 4,
      "metadata": {
        "id": "Bgo8D5jsjNoC",
        "colab": {
          "base_uri": "https://localhost:8080/"
        },
        "outputId": "e821eb8c-6b59-48da-f292-8d569423f56e"
      },
      "outputs": [
        {
          "output_type": "stream",
          "name": "stdout",
          "text": [
            "Downloading data from https://storage.googleapis.com/tensorflow/keras-applications/mobilenet/mobilenet_1_0_160_tf_no_top.h5\n",
            "\u001b[1m17225924/17225924\u001b[0m \u001b[32m━━━━━━━━━━━━━━━━━━━━\u001b[0m\u001b[37m\u001b[0m \u001b[1m0s\u001b[0m 0us/step\n"
          ]
        }
      ],
      "source": [
        "# Loads the pre-trained MobileNet model, excluding the last two layers\n",
        "base_model = MobileNet(weights='imagenet', include_top=False, input_shape=(160, 160, 3))"
      ]
    },
    {
      "cell_type": "code",
      "execution_count": 5,
      "metadata": {
        "id": "ZWeDXXJr19U7"
      },
      "outputs": [],
      "source": [
        "# Adds a global pooling layer to reduce dimensionality\n",
        "x = GlobalAveragePooling2D()(base_model.output)\n",
        "\n",
        "# Adds intermediate layer with L2 regularization\n",
        "x = Dense(50, activation='relu', kernel_regularizer=l2(0.01))(x)\n",
        "\n",
        "# Output layer\n",
        "predictions = Dense(1, activation='sigmoid')(x)\n",
        "\n",
        "# Create the final model\n",
        "model = Model(inputs=base_model.input, outputs=predictions)"
      ]
    },
    {
      "cell_type": "code",
      "execution_count": 6,
      "metadata": {
        "id": "GBQGszN95wrl"
      },
      "outputs": [],
      "source": [
        "# Freeze the base model layers\n",
        "for layer in base_model.layers:\n",
        "    layer.trainable = False\n",
        "\n",
        "# Compile the model\n",
        "model.compile(optimizer='adam', loss='binary_crossentropy', metrics=['accuracy'])\n",
        "\n",
        "# Data Augmentation\n",
        "train_datagen = ImageDataGenerator(\n",
        "    rescale=1./255,\n",
        "    rotation_range=40,\n",
        "    width_shift_range=0.2,\n",
        "    height_shift_range=0.2,\n",
        "    shear_range=0.2,\n",
        "    zoom_range=0.2,\n",
        "    horizontal_flip=True,\n",
        ")\n",
        "\n",
        "validation_datagen = ImageDataGenerator(rescale=1./255)"
      ]
    },
    {
      "cell_type": "code",
      "execution_count": 7,
      "metadata": {
        "colab": {
          "base_uri": "https://localhost:8080/"
        },
        "id": "Obi78AK5tA6d",
        "outputId": "3fb13c54-01ed-4270-e085-3bf12e16abec"
      },
      "outputs": [
        {
          "output_type": "stream",
          "name": "stdout",
          "text": [
            "Found 2000 images belonging to 2 classes.\n",
            "Found 1000 images belonging to 2 classes.\n"
          ]
        }
      ],
      "source": [
        "train_data_dir = os.path.join(data_cats_dogs, 'train')\n",
        "validation_data_dir = os.path.join(data_cats_dogs, 'validation')\n",
        "\n",
        "# Creating Data Generators\n",
        "train_generator = train_datagen.flow_from_directory(\n",
        "    train_data_dir,\n",
        "    target_size=(160, 160),\n",
        "    batch_size=32,\n",
        "    class_mode='binary'\n",
        ")\n",
        "\n",
        "validation_generator = validation_datagen.flow_from_directory(\n",
        "    validation_data_dir,  # Use the correct path\n",
        "    target_size=(160, 160),\n",
        "    batch_size=32,\n",
        "    class_mode='binary'\n",
        ")\n",
        "\n",
        "# Callbacks used during training to improve the model and prevent overfitting\n",
        "early_stopping = EarlyStopping(monitor='val_loss', patience=5, restore_best_weights=True)\n",
        "reduce_lr = ReduceLROnPlateau(monitor='val_loss', factor=0.2, patience=3, min_lr=0.001)"
      ]
    },
    {
      "cell_type": "code",
      "execution_count": 8,
      "metadata": {
        "colab": {
          "base_uri": "https://localhost:8080/"
        },
        "id": "E8xi-kh9sp6a",
        "outputId": "cdcaddfa-69d6-495c-b7a6-651dfe77b296"
      },
      "outputs": [
        {
          "output_type": "stream",
          "name": "stderr",
          "text": [
            "/usr/local/lib/python3.11/dist-packages/keras/src/trainers/data_adapters/py_dataset_adapter.py:121: UserWarning: Your `PyDataset` class should call `super().__init__(**kwargs)` in its constructor. `**kwargs` can include `workers`, `use_multiprocessing`, `max_queue_size`. Do not pass these arguments to `fit()`, as they will be ignored.\n",
            "  self._warn_if_super_not_called()\n"
          ]
        },
        {
          "output_type": "stream",
          "name": "stdout",
          "text": [
            "Epoch 1/10\n",
            "\u001b[1m63/63\u001b[0m \u001b[32m━━━━━━━━━━━━━━━━━━━━\u001b[0m\u001b[37m\u001b[0m \u001b[1m98s\u001b[0m 1s/step - accuracy: 0.8304 - loss: 1.1692 - val_accuracy: 0.9630 - val_loss: 0.6340 - learning_rate: 0.0010\n",
            "Epoch 2/10\n",
            "\u001b[1m63/63\u001b[0m \u001b[32m━━━━━━━━━━━━━━━━━━━━\u001b[0m\u001b[37m\u001b[0m \u001b[1m98s\u001b[0m 2s/step - accuracy: 0.9448 - loss: 0.6054 - val_accuracy: 0.9780 - val_loss: 0.3961 - learning_rate: 0.0010\n",
            "Epoch 3/10\n",
            "\u001b[1m63/63\u001b[0m \u001b[32m━━━━━━━━━━━━━━━━━━━━\u001b[0m\u001b[37m\u001b[0m \u001b[1m90s\u001b[0m 1s/step - accuracy: 0.9575 - loss: 0.4079 - val_accuracy: 0.9770 - val_loss: 0.2849 - learning_rate: 0.0010\n",
            "Epoch 4/10\n",
            "\u001b[1m63/63\u001b[0m \u001b[32m━━━━━━━━━━━━━━━━━━━━\u001b[0m\u001b[37m\u001b[0m \u001b[1m90s\u001b[0m 1s/step - accuracy: 0.9567 - loss: 0.3201 - val_accuracy: 0.9760 - val_loss: 0.2234 - learning_rate: 0.0010\n",
            "Epoch 5/10\n",
            "\u001b[1m63/63\u001b[0m \u001b[32m━━━━━━━━━━━━━━━━━━━━\u001b[0m\u001b[37m\u001b[0m \u001b[1m92s\u001b[0m 1s/step - accuracy: 0.9720 - loss: 0.2331 - val_accuracy: 0.9760 - val_loss: 0.1872 - learning_rate: 0.0010\n",
            "Epoch 6/10\n",
            "\u001b[1m63/63\u001b[0m \u001b[32m━━━━━━━━━━━━━━━━━━━━\u001b[0m\u001b[37m\u001b[0m \u001b[1m92s\u001b[0m 1s/step - accuracy: 0.9632 - loss: 0.2123 - val_accuracy: 0.9740 - val_loss: 0.1653 - learning_rate: 0.0010\n",
            "Epoch 7/10\n",
            "\u001b[1m63/63\u001b[0m \u001b[32m━━━━━━━━━━━━━━━━━━━━\u001b[0m\u001b[37m\u001b[0m \u001b[1m91s\u001b[0m 1s/step - accuracy: 0.9617 - loss: 0.1905 - val_accuracy: 0.9700 - val_loss: 0.1548 - learning_rate: 0.0010\n",
            "Epoch 8/10\n",
            "\u001b[1m63/63\u001b[0m \u001b[32m━━━━━━━━━━━━━━━━━━━━\u001b[0m\u001b[37m\u001b[0m \u001b[1m102s\u001b[0m 2s/step - accuracy: 0.9632 - loss: 0.1672 - val_accuracy: 0.9680 - val_loss: 0.1502 - learning_rate: 0.0010\n",
            "Epoch 9/10\n",
            "\u001b[1m63/63\u001b[0m \u001b[32m━━━━━━━━━━━━━━━━━━━━\u001b[0m\u001b[37m\u001b[0m \u001b[1m108s\u001b[0m 2s/step - accuracy: 0.9669 - loss: 0.1542 - val_accuracy: 0.9740 - val_loss: 0.1321 - learning_rate: 0.0010\n",
            "Epoch 10/10\n",
            "\u001b[1m63/63\u001b[0m \u001b[32m━━━━━━━━━━━━━━━━━━━━\u001b[0m\u001b[37m\u001b[0m \u001b[1m92s\u001b[0m 1s/step - accuracy: 0.9713 - loss: 0.1373 - val_accuracy: 0.9820 - val_loss: 0.1172 - learning_rate: 0.0010\n",
            "Epoch 1/10\n",
            "\u001b[1m63/63\u001b[0m \u001b[32m━━━━━━━━━━━━━━━━━━━━\u001b[0m\u001b[37m\u001b[0m \u001b[1m279s\u001b[0m 4s/step - accuracy: 0.8805 - loss: 0.4533 - val_accuracy: 0.9260 - val_loss: 0.2099 - learning_rate: 0.0010\n",
            "Epoch 2/10\n",
            "\u001b[1m63/63\u001b[0m \u001b[32m━━━━━━━━━━━━━━━━━━━━\u001b[0m\u001b[37m\u001b[0m \u001b[1m261s\u001b[0m 4s/step - accuracy: 0.9407 - loss: 0.1987 - val_accuracy: 0.8990 - val_loss: 0.4716 - learning_rate: 0.0010\n",
            "Epoch 3/10\n",
            "\u001b[1m63/63\u001b[0m \u001b[32m━━━━━━━━━━━━━━━━━━━━\u001b[0m\u001b[37m\u001b[0m \u001b[1m235s\u001b[0m 4s/step - accuracy: 0.9456 - loss: 0.1614 - val_accuracy: 0.8720 - val_loss: 0.6766 - learning_rate: 0.0010\n",
            "Epoch 4/10\n",
            "\u001b[1m63/63\u001b[0m \u001b[32m━━━━━━━━━━━━━━━━━━━━\u001b[0m\u001b[37m\u001b[0m \u001b[1m241s\u001b[0m 4s/step - accuracy: 0.9438 - loss: 0.1627 - val_accuracy: 0.9420 - val_loss: 0.2133 - learning_rate: 0.0010\n",
            "Epoch 5/10\n",
            "\u001b[1m63/63\u001b[0m \u001b[32m━━━━━━━━━━━━━━━━━━━━\u001b[0m\u001b[37m\u001b[0m \u001b[1m235s\u001b[0m 4s/step - accuracy: 0.9571 - loss: 0.1383 - val_accuracy: 0.9090 - val_loss: 0.3234 - learning_rate: 0.0010\n",
            "Epoch 6/10\n",
            "\u001b[1m63/63\u001b[0m \u001b[32m━━━━━━━━━━━━━━━━━━━━\u001b[0m\u001b[37m\u001b[0m \u001b[1m257s\u001b[0m 4s/step - accuracy: 0.9571 - loss: 0.1305 - val_accuracy: 0.9240 - val_loss: 0.1957 - learning_rate: 0.0010\n",
            "Epoch 7/10\n",
            "\u001b[1m63/63\u001b[0m \u001b[32m━━━━━━━━━━━━━━━━━━━━\u001b[0m\u001b[37m\u001b[0m \u001b[1m234s\u001b[0m 4s/step - accuracy: 0.9614 - loss: 0.1235 - val_accuracy: 0.9550 - val_loss: 0.1406 - learning_rate: 0.0010\n",
            "Epoch 8/10\n",
            "\u001b[1m63/63\u001b[0m \u001b[32m━━━━━━━━━━━━━━━━━━━━\u001b[0m\u001b[37m\u001b[0m \u001b[1m258s\u001b[0m 4s/step - accuracy: 0.9685 - loss: 0.0956 - val_accuracy: 0.9630 - val_loss: 0.1091 - learning_rate: 0.0010\n",
            "Epoch 9/10\n",
            "\u001b[1m63/63\u001b[0m \u001b[32m━━━━━━━━━━━━━━━━━━━━\u001b[0m\u001b[37m\u001b[0m \u001b[1m249s\u001b[0m 4s/step - accuracy: 0.9620 - loss: 0.1161 - val_accuracy: 0.9610 - val_loss: 0.1316 - learning_rate: 0.0010\n",
            "Epoch 10/10\n",
            "\u001b[1m63/63\u001b[0m \u001b[32m━━━━━━━━━━━━━━━━━━━━\u001b[0m\u001b[37m\u001b[0m \u001b[1m229s\u001b[0m 4s/step - accuracy: 0.9535 - loss: 0.1274 - val_accuracy: 0.9200 - val_loss: 0.3154 - learning_rate: 0.0010\n"
          ]
        }
      ],
      "source": [
        "# Frozen layers to train the model\n",
        "history = model.fit(train_generator, epochs=10, validation_data=validation_generator, callbacks=[early_stopping, reduce_lr])\n",
        "\n",
        "# Unfreezes the base model layers\n",
        "for layer in base_model.layers:\n",
        "    layer.trainable = True\n",
        "\n",
        "# Compile again at a lower learning rate\n",
        "model.compile(optimizer='adam', loss='binary_crossentropy', metrics=['accuracy'])\n",
        "\n",
        "#Fine-Tuning\n",
        "history_finetune = model.fit(train_generator, epochs=10, validation_data=validation_generator, callbacks=[early_stopping, reduce_lr])"
      ]
    },
    {
      "cell_type": "code",
      "execution_count": 9,
      "metadata": {
        "id": "79WKYIPIJSVM",
        "colab": {
          "base_uri": "https://localhost:8080/"
        },
        "outputId": "ad5c82a2-7259-4258-ab9f-5086cfe3373d"
      },
      "outputs": [
        {
          "output_type": "stream",
          "name": "stdout",
          "text": [
            "\u001b[1m32/32\u001b[0m \u001b[32m━━━━━━━━━━━━━━━━━━━━\u001b[0m\u001b[37m\u001b[0m \u001b[1m24s\u001b[0m 742ms/step - accuracy: 0.9597 - loss: 0.1033\n",
            "Validation model accuracy after fine-tuning: 96.30%\n",
            "Loss model after fine-tuning: 0.1091\n"
          ]
        }
      ],
      "source": [
        "# Evaluation after fine-tuning\n",
        "val_loss, val_accuracy = model.evaluate(validation_generator)\n",
        "\n",
        "print(f\"Validation model accuracy after fine-tuning: {val_accuracy * 100:.2f}%\")\n",
        "print(f\"Loss model after fine-tuning: {val_loss:.4f}\")\n"
      ]
    },
    {
      "cell_type": "markdown",
      "source": [
        "# **5. Obtain the model's predictions on the validation set**"
      ],
      "metadata": {
        "id": "kuzEi6RGoHaa"
      }
    },
    {
      "cell_type": "code",
      "source": [
        "#Reset the validation generator to avoid order problems\n",
        "validation_generator.reset()\n",
        "\n",
        "y_pred_probs = model.predict(validation_generator)\n",
        "y_pred = (y_pred_probs > 0.5).astype(int)\n",
        "y_true = validation_generator.classes"
      ],
      "metadata": {
        "colab": {
          "base_uri": "https://localhost:8080/"
        },
        "id": "EDsN102pU_Ge",
        "outputId": "7a726bd3-7456-43dc-8942-24d0b1d5118f"
      },
      "execution_count": 11,
      "outputs": [
        {
          "output_type": "stream",
          "name": "stdout",
          "text": [
            "\u001b[1m32/32\u001b[0m \u001b[32m━━━━━━━━━━━━━━━━━━━━\u001b[0m\u001b[37m\u001b[0m \u001b[1m23s\u001b[0m 691ms/step\n"
          ]
        }
      ]
    },
    {
      "cell_type": "markdown",
      "source": [
        "# **6. Calculate confusion matrix**"
      ],
      "metadata": {
        "id": "sSdcGALKoj9e"
      }
    },
    {
      "cell_type": "code",
      "source": [
        "from sklearn.metrics import confusion_matrix\n",
        "\n",
        "cm = confusion_matrix(y_true, y_pred)\n",
        "\n",
        "VP_dogs = cm[1, 1]  # True Positives (dogs predicted as dogs)\n",
        "VN_cats = cm[0, 0]  # True Negatives (Cats predicted as Cats)\n",
        "FP_cats = cm[0, 1]  # False Positives (Cats predicted as Dogs)\n",
        "FN_dogs = cm[1, 0]  # False Negatives (Dogs predicted as Cats)\n",
        "\n",
        "print(f\"True Positive (TP) - Dogs: {VP_dogs}\")\n",
        "print(f\"True Negative (TN) - Cats: {VN_cats}\")\n",
        "print(f\"False Positive (FP) - Cats: {FP_cats}\")\n",
        "print(f\"False Negative (FN) - Dogs: {FN_dogs}\")"
      ],
      "metadata": {
        "colab": {
          "base_uri": "https://localhost:8080/"
        },
        "id": "xYYDJ4kbVJrK",
        "outputId": "2da98b8b-a3b6-46fe-d822-2d4a4089e1d8"
      },
      "execution_count": 27,
      "outputs": [
        {
          "output_type": "stream",
          "name": "stdout",
          "text": [
            "True Positive (TP) - Dogs: 237\n",
            "True Negative (TN) - Cats: 234\n",
            "False Positive (FP) - Cats: 266\n",
            "False Negative (FN) - Dogs: 263\n"
          ]
        }
      ]
    },
    {
      "cell_type": "code",
      "source": [
        "import seaborn as sns\n",
        "\n",
        "plt.figure(figsize=(8, 6))\n",
        "sns.heatmap(cm, annot=True, fmt='d', cmap='Blues',\n",
        "            xticklabels=['cats', 'dogs'],\n",
        "            yticklabels=['cats', 'dogs'])\n",
        "plt.xlabel('Predictions')\n",
        "plt.ylabel('True Labels')\n",
        "plt.title('Confusion Matrix')\n",
        "plt.show()"
      ],
      "metadata": {
        "colab": {
          "base_uri": "https://localhost:8080/",
          "height": 564
        },
        "id": "WgiYArHuVXZ-",
        "outputId": "a27b1aeb-9d8f-4db7-a48d-2de1fb4a6ad4"
      },
      "execution_count": 28,
      "outputs": [
        {
          "output_type": "display_data",
          "data": {
            "text/plain": [
              "<Figure size 800x600 with 2 Axes>"
            ],
            "image/png": "[encoded data removed]"
          },
          "metadata": {}
        }
      ]
    },
    {
      "cell_type": "markdown",
      "source": [
        "# **7. Calculate the metrics**"
      ],
      "metadata": {
        "id": "ccXth1LLqBGG"
      }
    },
    {
      "cell_type": "code",
      "source": [
        "from sklearn.metrics import confusion_matrix\n",
        "cm = confusion_matrix(y_true, y_pred)\n",
        "\n",
        "# Extract the values\n",
        "TN = cm[0, 0]\n",
        "FP = cm[0, 1]\n",
        "FN = cm[1, 0]\n",
        "TP = cm[1, 1]\n",
        "\n",
        "# Calculate metrics\n",
        "acuracy = (TP + TN) / (TP + TN + FP + FN)\n",
        "Recall = TP / (TP + FN)\n",
        "Specificity = TN / (TN + FP)\n",
        "Precision = TP / (TP + FP)\n",
        "f_score = 2 * (Precision * Recall) / (Precision + Recall)\n",
        "\n",
        "# Print results\n",
        "print(f\"Accuracy: {acuracy:.4f}\")\n",
        "print(f\"Recall: {Recall:.4f}\")\n",
        "print(f\"Specificity: {Specificity:.4f}\")\n",
        "print(f\"Precision: {Precision:.4f}\")\n",
        "print(f\"F-score: {f_score:.4f}\")"
      ],
      "metadata": {
        "colab": {
          "base_uri": "https://localhost:8080/"
        },
        "id": "K8b77r_fiSoA",
        "outputId": "a9419a50-e4be-4886-ab4f-dfe9d9c80c97"
      },
      "execution_count": 31,
      "outputs": [
        {
          "output_type": "stream",
          "name": "stdout",
          "text": [
            "Accuracy: 0.4710\n",
            "Recall: 0.4740\n",
            "Specificity: 0.4680\n",
            "Precision: 0.4712\n",
            "F-score: 0.4726\n"
          ]
        }
      ]
    },
    {
      "cell_type": "code",
      "source": [
        "from sklearn.metrics import classification_report\n",
        "\n",
        "print(classification_report(y_true, y_pred, target_names=['cats', 'dogs']))"
      ],
      "metadata": {
        "colab": {
          "base_uri": "https://localhost:8080/"
        },
        "id": "xZ0cewfpW1fR",
        "outputId": "3e125e4a-4aa4-4a8b-8899-b973062a218f"
      },
      "execution_count": 23,
      "outputs": [
        {
          "output_type": "stream",
          "name": "stdout",
          "text": [
            "              precision    recall  f1-score   support\n",
            "\n",
            "        cats       0.47      0.47      0.47       500\n",
            "        dogs       0.47      0.47      0.47       500\n",
            "\n",
            "    accuracy                           0.47      1000\n",
            "   macro avg       0.47      0.47      0.47      1000\n",
            "weighted avg       0.47      0.47      0.47      1000\n",
            "\n"
          ]
        }
      ]
    },
    {
      "cell_type": "markdown",
      "source": [
        "# **8. Conclusions**"
      ],
      "metadata": {
        "id": "YbdGF8zMrj-N"
      }
    },
    {
      "cell_type": "markdown",
      "source": [
        "Based on the metrics provided, we can conclude that the neural network in question has a sub-optimal classification performance. All the metrics (accuracy, recall, specificity, precision and F-score) are around 0.47, indicating that the model gets approximately 47% of the predictions right.\n",
        "\n",
        "In detail:\n",
        "\n",
        "**Accuracy: 0.4710 (47.10%)** - indicates that the model correctly classifies just under half of the samples.\n",
        "\n",
        "**Recall: 0.4740 (47.40%)** - shows that the model correctly identifies 47.40% of real positive cases (e.g. animals that really are dogs).\n",
        "\n",
        "**Specificity: 0.4680 (46.80%)** - shows that the model correctly identifies 46.80% of real negative cases (e.g. animals that really are cats).\n",
        "\n",
        "**Precision: 0.4712 (47.12%)** - means that when the model classifies an animal as a dog, it gets it right 47.12% of the time.\n",
        "\n",
        "**F-score: 0.4726 (47.26%)** - represents the harmonic mean between precision and recall, indicating a poor balance between the two metrics.\n",
        "\n",
        "The neural network shows difficulties in distinguishing the classes, with performance close to that of a random classifier. This suggests that the model may not have learned the characteristic patterns of the classes or that the training data is not sufficient or of adequate quality."
      ],
      "metadata": {
        "id": "uTClfpXxrtCJ"
      }
    }
  ],
  "metadata": {
    "colab": {
      "provenance": [],
      "authorship_tag": "ABX9TyNzh/SU+P72BgIWc7r6B/LT",
      "include_colab_link": true
    },
    "kernelspec": {
      "display_name": "Python 3",
      "name": "python3"
    },
    "language_info": {
      "name": "python"
    }
  },
  "nbformat": 4,
  "nbformat_minor": 0
}